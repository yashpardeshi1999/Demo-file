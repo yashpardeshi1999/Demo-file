{
 "cells": [
  {
   "cell_type": "markdown",
   "id": "fa139756",
   "metadata": {},
   "source": [
    "## Operations in Lists and Strings\n",
    "1. Concatination\n",
    "2. Indexing\n",
    "3. Slicing"
   ]
  },
  {
   "cell_type": "markdown",
   "id": "4dcb2fe4",
   "metadata": {},
   "source": [
    "### Concatenate"
   ]
  },
  {
   "cell_type": "code",
   "execution_count": 6,
   "id": "e16a5ee2",
   "metadata": {},
   "outputs": [
    {
     "name": "stdout",
     "output_type": "stream",
     "text": [
      "MyDesktop\n"
     ]
    }
   ],
   "source": [
    "# Concatenate :- merge 2 or more strings or lists\n",
    "a='Desktop'\n",
    "b='My'\n",
    "print(b+a)"
   ]
  },
  {
   "cell_type": "code",
   "execution_count": 5,
   "id": "e94cf45e",
   "metadata": {},
   "outputs": [
    {
     "name": "stdout",
     "output_type": "stream",
     "text": [
      "My Desktop\n"
     ]
    }
   ],
   "source": [
    "a='Desktop'\n",
    "b='My'\n",
    "print(b+' '+a)"
   ]
  },
  {
   "cell_type": "code",
   "execution_count": 12,
   "id": "edacb8a5",
   "metadata": {},
   "outputs": [
    {
     "name": "stdout",
     "output_type": "stream",
     "text": [
      "[1, 2, 3, 4, 5, 'Mango', 'Apple']\n",
      "['Mango', 'Apple', 1, 2, 3, 4, 5]\n"
     ]
    }
   ],
   "source": [
    "# concatination in Lists\n",
    "L1=[1,2,3,4,5]\n",
    "L2=['Mango','Apple']\n",
    "print(L1+L2)\n",
    "print(L2+L1)"
   ]
  },
  {
   "cell_type": "code",
   "execution_count": 8,
   "id": "f3d6c1cb",
   "metadata": {},
   "outputs": [
    {
     "name": "stdout",
     "output_type": "stream",
     "text": [
      "My full name is Yash Ramakant Pardeshi\n"
     ]
    }
   ],
   "source": [
    "first_name='Yash'\n",
    "middle_name='Ramakant'\n",
    "last_name='Pardeshi'\n",
    "\n",
    "print('My full name is',first_name+\" \"+middle_name+\" \"+last_name)"
   ]
  },
  {
   "cell_type": "markdown",
   "id": "51e2044b",
   "metadata": {},
   "source": [
    "### Indexing"
   ]
  },
  {
   "cell_type": "code",
   "execution_count": 20,
   "id": "e0ba4ce1",
   "metadata": {},
   "outputs": [
    {
     "data": {
      "text/plain": [
       "'Indian Ocean'"
      ]
     },
     "execution_count": 20,
     "metadata": {},
     "output_type": "execute_result"
    }
   ],
   "source": [
    "a='Indian Ocean'\n",
    "a[0:12]"
   ]
  },
  {
   "cell_type": "code",
   "execution_count": 27,
   "id": "0cf35543",
   "metadata": {},
   "outputs": [
    {
     "data": {
      "text/plain": [
       "'Indian Ocean'"
      ]
     },
     "execution_count": 27,
     "metadata": {},
     "output_type": "execute_result"
    }
   ],
   "source": [
    "a='Indian Ocean'\n",
    "a[-12:]"
   ]
  },
  {
   "cell_type": "code",
   "execution_count": 34,
   "id": "a5cfc561",
   "metadata": {},
   "outputs": [
    {
     "data": {
      "text/plain": [
       "'Mango'"
      ]
     },
     "execution_count": 34,
     "metadata": {},
     "output_type": "execute_result"
    }
   ],
   "source": [
    "L1=[1,2,3,4,5,'Mango','Apple']\n",
    "L1[5]"
   ]
  },
  {
   "cell_type": "code",
   "execution_count": 38,
   "id": "da1defab",
   "metadata": {},
   "outputs": [
    {
     "data": {
      "text/plain": [
       "'Apple'"
      ]
     },
     "execution_count": 38,
     "metadata": {},
     "output_type": "execute_result"
    }
   ],
   "source": [
    "L1=[1,2,3,4,5,'Mango','Apple']\n",
    "L1[6]"
   ]
  },
  {
   "cell_type": "code",
   "execution_count": 39,
   "id": "54bc2a68",
   "metadata": {},
   "outputs": [
    {
     "data": {
      "text/plain": [
       "'Mango'"
      ]
     },
     "execution_count": 39,
     "metadata": {},
     "output_type": "execute_result"
    }
   ],
   "source": [
    "l_new=['AI','Data Science','Mango','Pineapple','Python','Pyspark',5,7,9,10]\n",
    "l_new[2]"
   ]
  },
  {
   "cell_type": "code",
   "execution_count": 40,
   "id": "438019f8",
   "metadata": {},
   "outputs": [
    {
     "data": {
      "text/plain": [
       "'Mango'"
      ]
     },
     "execution_count": 40,
     "metadata": {},
     "output_type": "execute_result"
    }
   ],
   "source": [
    "l_new[-8]"
   ]
  },
  {
   "cell_type": "code",
   "execution_count": 41,
   "id": "bcaeb28b",
   "metadata": {},
   "outputs": [
    {
     "data": {
      "text/plain": [
       "'Pyspark'"
      ]
     },
     "execution_count": 41,
     "metadata": {},
     "output_type": "execute_result"
    }
   ],
   "source": [
    "l_new[5]"
   ]
  },
  {
   "cell_type": "code",
   "execution_count": 42,
   "id": "20957335",
   "metadata": {},
   "outputs": [
    {
     "data": {
      "text/plain": [
       "'Pyspark'"
      ]
     },
     "execution_count": 42,
     "metadata": {},
     "output_type": "execute_result"
    }
   ],
   "source": [
    "l_new[-5]"
   ]
  },
  {
   "cell_type": "code",
   "execution_count": 43,
   "id": "49439037",
   "metadata": {},
   "outputs": [
    {
     "data": {
      "text/plain": [
       "9"
      ]
     },
     "execution_count": 43,
     "metadata": {},
     "output_type": "execute_result"
    }
   ],
   "source": [
    "l_new[8]"
   ]
  },
  {
   "cell_type": "code",
   "execution_count": 44,
   "id": "99e36bfd",
   "metadata": {},
   "outputs": [
    {
     "data": {
      "text/plain": [
       "9"
      ]
     },
     "execution_count": 44,
     "metadata": {},
     "output_type": "execute_result"
    }
   ],
   "source": [
    "l_new[-2]"
   ]
  },
  {
   "cell_type": "code",
   "execution_count": 45,
   "id": "da19a961",
   "metadata": {},
   "outputs": [
    {
     "data": {
      "text/plain": [
       "'Pineapple'"
      ]
     },
     "execution_count": 45,
     "metadata": {},
     "output_type": "execute_result"
    }
   ],
   "source": [
    "l_new[3]"
   ]
  },
  {
   "cell_type": "code",
   "execution_count": 46,
   "id": "01df03aa",
   "metadata": {},
   "outputs": [
    {
     "data": {
      "text/plain": [
       "'Pineapple'"
      ]
     },
     "execution_count": 46,
     "metadata": {},
     "output_type": "execute_result"
    }
   ],
   "source": [
    "l_new[-7]"
   ]
  },
  {
   "cell_type": "code",
   "execution_count": 47,
   "id": "38f207c7",
   "metadata": {},
   "outputs": [],
   "source": [
    "# fetching 'a' from 'mango'?\n",
    "Yash=l_new[2]"
   ]
  },
  {
   "cell_type": "code",
   "execution_count": 49,
   "id": "92f944e5",
   "metadata": {},
   "outputs": [
    {
     "name": "stdout",
     "output_type": "stream",
     "text": [
      "Mango\n"
     ]
    }
   ],
   "source": [
    "print(Yash)"
   ]
  },
  {
   "cell_type": "code",
   "execution_count": 48,
   "id": "64dac41f",
   "metadata": {},
   "outputs": [
    {
     "data": {
      "text/plain": [
       "'a'"
      ]
     },
     "execution_count": 48,
     "metadata": {},
     "output_type": "execute_result"
    }
   ],
   "source": [
    "Yash[1]"
   ]
  },
  {
   "cell_type": "code",
   "execution_count": 50,
   "id": "d7e74cc4",
   "metadata": {},
   "outputs": [
    {
     "name": "stdout",
     "output_type": "stream",
     "text": [
      "Pratiksha Vishwas\n"
     ]
    }
   ],
   "source": [
    "# concatinating and indexing\n",
    "f_name=\"Pratiksha\"\n",
    "m_name='Vishwas'\n",
    "print(f_name+' '+m_name)"
   ]
  },
  {
   "cell_type": "code",
   "execution_count": 51,
   "id": "71d0e816",
   "metadata": {},
   "outputs": [],
   "source": [
    "name=f_name+' '+m_name"
   ]
  },
  {
   "cell_type": "code",
   "execution_count": 53,
   "id": "8f1547f3",
   "metadata": {},
   "outputs": [
    {
     "data": {
      "text/plain": [
       "'V'"
      ]
     },
     "execution_count": 53,
     "metadata": {},
     "output_type": "execute_result"
    }
   ],
   "source": [
    "name[10]"
   ]
  },
  {
   "cell_type": "code",
   "execution_count": 54,
   "id": "504b2ab2",
   "metadata": {},
   "outputs": [
    {
     "data": {
      "text/plain": [
       "'V'"
      ]
     },
     "execution_count": 54,
     "metadata": {},
     "output_type": "execute_result"
    }
   ],
   "source": [
    "name[-7]"
   ]
  },
  {
   "cell_type": "markdown",
   "id": "4a6ac4b2",
   "metadata": {},
   "source": [
    "## Slicing"
   ]
  },
  {
   "cell_type": "code",
   "execution_count": 58,
   "id": "b4b00bc2",
   "metadata": {},
   "outputs": [
    {
     "data": {
      "text/plain": [
       "'United'"
      ]
     },
     "execution_count": 58,
     "metadata": {},
     "output_type": "execute_result"
    }
   ],
   "source": [
    "a='United Nations'\n",
    "a[-14:-8]"
   ]
  },
  {
   "cell_type": "code",
   "execution_count": 61,
   "id": "e4b5b0de",
   "metadata": {},
   "outputs": [
    {
     "data": {
      "text/plain": [
       "'Nations'"
      ]
     },
     "execution_count": 61,
     "metadata": {},
     "output_type": "execute_result"
    }
   ],
   "source": [
    "a[7:]"
   ]
  },
  {
   "cell_type": "code",
   "execution_count": 62,
   "id": "c273efd5",
   "metadata": {},
   "outputs": [
    {
     "data": {
      "text/plain": [
       "'United'"
      ]
     },
     "execution_count": 62,
     "metadata": {},
     "output_type": "execute_result"
    }
   ],
   "source": [
    "a[0:6]"
   ]
  },
  {
   "cell_type": "code",
   "execution_count": 63,
   "id": "ffef6e75",
   "metadata": {},
   "outputs": [
    {
     "data": {
      "text/plain": [
       "'Nations'"
      ]
     },
     "execution_count": 63,
     "metadata": {},
     "output_type": "execute_result"
    }
   ],
   "source": [
    "a[-7:]"
   ]
  },
  {
   "cell_type": "code",
   "execution_count": 64,
   "id": "c01351c2",
   "metadata": {},
   "outputs": [
    {
     "data": {
      "text/plain": [
       "'ted Nation'"
      ]
     },
     "execution_count": 64,
     "metadata": {},
     "output_type": "execute_result"
    }
   ],
   "source": [
    "a[3:13]"
   ]
  },
  {
   "cell_type": "code",
   "execution_count": 65,
   "id": "4fc6f513",
   "metadata": {},
   "outputs": [
    {
     "data": {
      "text/plain": [
       "'ted Nation'"
      ]
     },
     "execution_count": 65,
     "metadata": {},
     "output_type": "execute_result"
    }
   ],
   "source": [
    "a[-11:-1]"
   ]
  },
  {
   "cell_type": "markdown",
   "id": "d3790209",
   "metadata": {},
   "source": [
    "## Slicing in List"
   ]
  },
  {
   "cell_type": "code",
   "execution_count": 66,
   "id": "2cd85f95",
   "metadata": {},
   "outputs": [
    {
     "data": {
      "text/plain": [
       "['USA', 'Alaska', 'Israel']"
      ]
     },
     "execution_count": 66,
     "metadata": {},
     "output_type": "execute_result"
    }
   ],
   "source": [
    "my_list=[1,2,3,'Russia','USA','Alaska','Israel',5,8,-4.9]\n",
    "my_list[4:7]"
   ]
  },
  {
   "cell_type": "code",
   "execution_count": 67,
   "id": "d2bd13c2",
   "metadata": {},
   "outputs": [
    {
     "data": {
      "text/plain": [
       "['USA', 'Alaska', 'Israel']"
      ]
     },
     "execution_count": 67,
     "metadata": {},
     "output_type": "execute_result"
    }
   ],
   "source": [
    "my_list[-6:-3]"
   ]
  }
 ],
 "metadata": {
  "kernelspec": {
   "display_name": "Python 3 (ipykernel)",
   "language": "python",
   "name": "python3"
  },
  "language_info": {
   "codemirror_mode": {
    "name": "ipython",
    "version": 3
   },
   "file_extension": ".py",
   "mimetype": "text/x-python",
   "name": "python",
   "nbconvert_exporter": "python",
   "pygments_lexer": "ipython3",
   "version": "3.10.9"
  }
 },
 "nbformat": 4,
 "nbformat_minor": 5
}
